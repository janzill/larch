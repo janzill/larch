{
 "cells": [
  {
   "cell_type": "markdown",
   "metadata": {},
   "source": [
    "# 200: Exampville Simulated Data"
   ]
  },
  {
   "cell_type": "code",
   "execution_count": 1,
   "metadata": {},
   "outputs": [
    {
     "data": {
      "text/plain": [
       "'5.0.5'"
      ]
     },
     "execution_count": 1,
     "metadata": {},
     "output_type": "execute_result"
    }
   ],
   "source": [
    "import larch, numpy, pandas, os\n",
    "larch.__version__"
   ]
  },
  {
   "cell_type": "markdown",
   "metadata": {},
   "source": [
    "Welcome to Exampville, the best simulated town in this here part of the internet!\n",
    "\n",
    "Exampville is a simulation tool provided with Larch that can quickly simulate the\n",
    "kind of data that a transportation planner might have available when building\n",
    "a travel model.  We will use the first Exampville builder to generate some\n",
    "simulated data.\n"
   ]
  },
  {
   "cell_type": "code",
   "execution_count": 2,
   "metadata": {},
   "outputs": [],
   "source": [
    "import larch.exampville\n",
    "from larch.roles import P,X\n",
    "directory, skims, f_hh, f_pp, f_tour = larch.exampville.builder_1(\n",
    "    nZones=15,\n",
    "    transit_scope=(4,15),\n",
    "    n_HH=2000,\n",
    "    output_format='csv'\n",
    ")"
   ]
  },
  {
   "cell_type": "markdown",
   "metadata": {},
   "source": [
    "The builder creates a temporary directory, and produces a set of files\n",
    "representing some network skim matrixes in openmatrix (OMX) format, as well\n",
    "as three DT files containing data on households, persons, and tours, respectively.\n",
    "We can take a quick peek at what is inside each file:\n"
   ]
  },
  {
   "cell_type": "code",
   "execution_count": 3,
   "metadata": {},
   "outputs": [
    {
     "data": {
      "text/plain": [
       "<larch.OMX> ⋯/T/tmpk50hcwwc/exampville.omx\n",
       " |  shape:(15, 15)\n",
       " |  data:\n",
       " |    AUTO_TIME (float64)\n",
       " |    DIST      (float64)\n",
       " |    RAIL_FARE (float64)\n",
       " |    RAIL_TIME (float64)\n",
       " |  lookup:\n",
       " |    EMPLOYMENT    (15 float64)\n",
       " |    EMP_NONRETAIL (15 float64)\n",
       " |    EMP_RETAIL    (15 float64)\n",
       " |    LAT           (15 int64)\n",
       " |    LON           (15 int64)\n",
       " |    TAZID         (15 int64)"
      ]
     },
     "execution_count": 3,
     "metadata": {},
     "output_type": "execute_result"
    }
   ],
   "source": [
    "skims"
   ]
  },
  {
   "cell_type": "code",
   "execution_count": 4,
   "metadata": {},
   "outputs": [
    {
     "name": "stdout",
     "output_type": "stream",
     "text": [
      "<class 'pandas.core.frame.DataFrame'>\n",
      "RangeIndex: 2000 entries, 0 to 1999\n",
      "Data columns (total 4 columns):\n",
      "HHID       2000 non-null int64\n",
      "INCOME     2000 non-null int64\n",
      "HHSIZE     2000 non-null int64\n",
      "HOMETAZ    2000 non-null int64\n",
      "dtypes: int64(4)\n",
      "memory usage: 62.6 KB\n"
     ]
    },
    {
     "data": {
      "text/html": [
       "<div>\n",
       "<style scoped>\n",
       "    .dataframe tbody tr th:only-of-type {\n",
       "        vertical-align: middle;\n",
       "    }\n",
       "\n",
       "    .dataframe tbody tr th {\n",
       "        vertical-align: top;\n",
       "    }\n",
       "\n",
       "    .dataframe thead th {\n",
       "        text-align: right;\n",
       "    }\n",
       "</style>\n",
       "<table border=\"1\" class=\"dataframe\">\n",
       "  <thead>\n",
       "    <tr style=\"text-align: right;\">\n",
       "      <th></th>\n",
       "      <th>HHID</th>\n",
       "      <th>INCOME</th>\n",
       "      <th>HHSIZE</th>\n",
       "      <th>HOMETAZ</th>\n",
       "    </tr>\n",
       "  </thead>\n",
       "  <tbody>\n",
       "    <tr>\n",
       "      <th>0</th>\n",
       "      <td>50000</td>\n",
       "      <td>133000</td>\n",
       "      <td>3</td>\n",
       "      <td>6</td>\n",
       "    </tr>\n",
       "    <tr>\n",
       "      <th>1</th>\n",
       "      <td>50001</td>\n",
       "      <td>48000</td>\n",
       "      <td>1</td>\n",
       "      <td>8</td>\n",
       "    </tr>\n",
       "    <tr>\n",
       "      <th>2</th>\n",
       "      <td>50002</td>\n",
       "      <td>72000</td>\n",
       "      <td>1</td>\n",
       "      <td>4</td>\n",
       "    </tr>\n",
       "    <tr>\n",
       "      <th>3</th>\n",
       "      <td>50003</td>\n",
       "      <td>103000</td>\n",
       "      <td>3</td>\n",
       "      <td>5</td>\n",
       "    </tr>\n",
       "    <tr>\n",
       "      <th>4</th>\n",
       "      <td>50004</td>\n",
       "      <td>77000</td>\n",
       "      <td>1</td>\n",
       "      <td>10</td>\n",
       "    </tr>\n",
       "  </tbody>\n",
       "</table>\n",
       "</div>"
      ],
      "text/plain": [
       "    HHID  INCOME  HHSIZE  HOMETAZ\n",
       "0  50000  133000       3        6\n",
       "1  50001   48000       1        8\n",
       "2  50002   72000       1        4\n",
       "3  50003  103000       3        5\n",
       "4  50004   77000       1       10"
      ]
     },
     "execution_count": 4,
     "metadata": {},
     "output_type": "execute_result"
    }
   ],
   "source": [
    "f_hh.info()\n",
    "f_hh.head()"
   ]
  },
  {
   "cell_type": "code",
   "execution_count": 5,
   "metadata": {},
   "outputs": [
    {
     "name": "stdout",
     "output_type": "stream",
     "text": [
      "<class 'pandas.core.frame.DataFrame'>\n",
      "RangeIndex: 3462 entries, 0 to 3461\n",
      "Data columns (total 7 columns):\n",
      "PERSONID        3462 non-null int64\n",
      "HHID            3462 non-null int64\n",
      "AGE             3462 non-null int64\n",
      "WORKS           3462 non-null int64\n",
      "N_WORKTOURS     3462 non-null int64\n",
      "N_OTHERTOURS    3462 non-null int64\n",
      "N_TOTALTOURS    3462 non-null int64\n",
      "dtypes: int64(7)\n",
      "memory usage: 189.4 KB\n"
     ]
    },
    {
     "data": {
      "text/html": [
       "<div>\n",
       "<style scoped>\n",
       "    .dataframe tbody tr th:only-of-type {\n",
       "        vertical-align: middle;\n",
       "    }\n",
       "\n",
       "    .dataframe tbody tr th {\n",
       "        vertical-align: top;\n",
       "    }\n",
       "\n",
       "    .dataframe thead th {\n",
       "        text-align: right;\n",
       "    }\n",
       "</style>\n",
       "<table border=\"1\" class=\"dataframe\">\n",
       "  <thead>\n",
       "    <tr style=\"text-align: right;\">\n",
       "      <th></th>\n",
       "      <th>PERSONID</th>\n",
       "      <th>HHID</th>\n",
       "      <th>AGE</th>\n",
       "      <th>WORKS</th>\n",
       "      <th>N_WORKTOURS</th>\n",
       "      <th>N_OTHERTOURS</th>\n",
       "      <th>N_TOTALTOURS</th>\n",
       "    </tr>\n",
       "  </thead>\n",
       "  <tbody>\n",
       "    <tr>\n",
       "      <th>0</th>\n",
       "      <td>60000</td>\n",
       "      <td>50000</td>\n",
       "      <td>82</td>\n",
       "      <td>0</td>\n",
       "      <td>0</td>\n",
       "      <td>0</td>\n",
       "      <td>0</td>\n",
       "    </tr>\n",
       "    <tr>\n",
       "      <th>1</th>\n",
       "      <td>60001</td>\n",
       "      <td>50000</td>\n",
       "      <td>26</td>\n",
       "      <td>0</td>\n",
       "      <td>0</td>\n",
       "      <td>0</td>\n",
       "      <td>0</td>\n",
       "    </tr>\n",
       "    <tr>\n",
       "      <th>2</th>\n",
       "      <td>60002</td>\n",
       "      <td>50000</td>\n",
       "      <td>19</td>\n",
       "      <td>1</td>\n",
       "      <td>1</td>\n",
       "      <td>1</td>\n",
       "      <td>2</td>\n",
       "    </tr>\n",
       "    <tr>\n",
       "      <th>3</th>\n",
       "      <td>60003</td>\n",
       "      <td>50001</td>\n",
       "      <td>46</td>\n",
       "      <td>1</td>\n",
       "      <td>1</td>\n",
       "      <td>0</td>\n",
       "      <td>1</td>\n",
       "    </tr>\n",
       "    <tr>\n",
       "      <th>4</th>\n",
       "      <td>60004</td>\n",
       "      <td>50002</td>\n",
       "      <td>32</td>\n",
       "      <td>1</td>\n",
       "      <td>1</td>\n",
       "      <td>1</td>\n",
       "      <td>2</td>\n",
       "    </tr>\n",
       "  </tbody>\n",
       "</table>\n",
       "</div>"
      ],
      "text/plain": [
       "   PERSONID   HHID  AGE  WORKS  N_WORKTOURS  N_OTHERTOURS  N_TOTALTOURS\n",
       "0     60000  50000   82      0            0             0             0\n",
       "1     60001  50000   26      0            0             0             0\n",
       "2     60002  50000   19      1            1             1             2\n",
       "3     60003  50001   46      1            1             0             1\n",
       "4     60004  50002   32      1            1             1             2"
      ]
     },
     "execution_count": 5,
     "metadata": {},
     "output_type": "execute_result"
    }
   ],
   "source": [
    "f_pp.info()\n",
    "f_pp.head()"
   ]
  },
  {
   "cell_type": "code",
   "execution_count": 6,
   "metadata": {},
   "outputs": [
    {
     "name": "stdout",
     "output_type": "stream",
     "text": [
      "<class 'pandas.core.frame.DataFrame'>\n",
      "RangeIndex: 6123 entries, 0 to 6122\n",
      "Data columns (total 6 columns):\n",
      "TOURID      6123 non-null int64\n",
      "HHID        6123 non-null int64\n",
      "PERSONID    6123 non-null int64\n",
      "DTAZ        6123 non-null int64\n",
      "TOURMODE    6123 non-null int64\n",
      "TOURPURP    6123 non-null int64\n",
      "dtypes: int64(6)\n",
      "memory usage: 287.1 KB\n"
     ]
    },
    {
     "data": {
      "text/html": [
       "<div>\n",
       "<style scoped>\n",
       "    .dataframe tbody tr th:only-of-type {\n",
       "        vertical-align: middle;\n",
       "    }\n",
       "\n",
       "    .dataframe tbody tr th {\n",
       "        vertical-align: top;\n",
       "    }\n",
       "\n",
       "    .dataframe thead th {\n",
       "        text-align: right;\n",
       "    }\n",
       "</style>\n",
       "<table border=\"1\" class=\"dataframe\">\n",
       "  <thead>\n",
       "    <tr style=\"text-align: right;\">\n",
       "      <th></th>\n",
       "      <th>TOURID</th>\n",
       "      <th>HHID</th>\n",
       "      <th>PERSONID</th>\n",
       "      <th>DTAZ</th>\n",
       "      <th>TOURMODE</th>\n",
       "      <th>TOURPURP</th>\n",
       "    </tr>\n",
       "  </thead>\n",
       "  <tbody>\n",
       "    <tr>\n",
       "      <th>0</th>\n",
       "      <td>0</td>\n",
       "      <td>50000</td>\n",
       "      <td>60002</td>\n",
       "      <td>6</td>\n",
       "      <td>1</td>\n",
       "      <td>1</td>\n",
       "    </tr>\n",
       "    <tr>\n",
       "      <th>1</th>\n",
       "      <td>1</td>\n",
       "      <td>50000</td>\n",
       "      <td>60002</td>\n",
       "      <td>5</td>\n",
       "      <td>1</td>\n",
       "      <td>2</td>\n",
       "    </tr>\n",
       "    <tr>\n",
       "      <th>2</th>\n",
       "      <td>2</td>\n",
       "      <td>50001</td>\n",
       "      <td>60003</td>\n",
       "      <td>4</td>\n",
       "      <td>1</td>\n",
       "      <td>1</td>\n",
       "    </tr>\n",
       "    <tr>\n",
       "      <th>3</th>\n",
       "      <td>3</td>\n",
       "      <td>50002</td>\n",
       "      <td>60004</td>\n",
       "      <td>8</td>\n",
       "      <td>2</td>\n",
       "      <td>1</td>\n",
       "    </tr>\n",
       "    <tr>\n",
       "      <th>4</th>\n",
       "      <td>4</td>\n",
       "      <td>50002</td>\n",
       "      <td>60004</td>\n",
       "      <td>8</td>\n",
       "      <td>1</td>\n",
       "      <td>2</td>\n",
       "    </tr>\n",
       "  </tbody>\n",
       "</table>\n",
       "</div>"
      ],
      "text/plain": [
       "   TOURID   HHID  PERSONID  DTAZ  TOURMODE  TOURPURP\n",
       "0       0  50000     60002     6         1         1\n",
       "1       1  50000     60002     5         1         2\n",
       "2       2  50001     60003     4         1         1\n",
       "3       3  50002     60004     8         2         1\n",
       "4       4  50002     60004     8         1         2"
      ]
     },
     "execution_count": 6,
     "metadata": {},
     "output_type": "execute_result"
    }
   ],
   "source": [
    "f_tour.info()\n",
    "f_tour.head()"
   ]
  },
  {
   "cell_type": "markdown",
   "metadata": {},
   "source": [
    "The Exampville data output contains a set of files similar to what we might\n",
    "find for a real travel survey: network skims, and tables of households, persons,\n",
    "and tours.  We'll need to merge these tables to create a composite dataset\n",
    "for mode choice model estimation.\n",
    "\n",
    "We can merge data from other tables using the usual pandas syntax for merging.\n"
   ]
  },
  {
   "cell_type": "code",
   "execution_count": 7,
   "metadata": {},
   "outputs": [],
   "source": [
    "f_tour = f_tour.merge(f_hh, on='HHID')\n",
    "f_tour = f_tour.merge(f_pp, on=('HHID', 'PERSONID'))"
   ]
  },
  {
   "cell_type": "markdown",
   "metadata": {},
   "source": [
    "Our zone numbering system starts with zone 1, as is common for many TAZ numbering \n",
    "systems seen in practice.  But, for looking up data in the skims matrix, we'll need\n",
    "to use zero-based numbering that is standard in Python.  So we'll create two new \n",
    "TAZ-index columns to assist this process."
   ]
  },
  {
   "cell_type": "code",
   "execution_count": 8,
   "metadata": {},
   "outputs": [],
   "source": [
    "f_tour[\"HOMETAZi\"] = f_tour[\"HOMETAZ\"] - 1\n",
    "f_tour[\"DTAZi\"] = f_tour[\"DTAZ\"] - 1"
   ]
  },
  {
   "cell_type": "markdown",
   "metadata": {},
   "source": [
    "Let's define some variables for clarity.  We could in theory call the complete formula\n",
    "\"DIST / 2.5 * 60 * (DIST<=3)\" every time we want to refer to the walk time (given as\n",
    "distance in miles, divided by 2.5 miles per hour, times 60 minutes per hour, but only up to 3 miles).\n",
    "But it's much easier, and potentially faster, to pre-compute the walk time and use it directly.\n"
   ]
  },
  {
   "cell_type": "code",
   "execution_count": 9,
   "metadata": {},
   "outputs": [
    {
     "data": {
      "text/plain": [
       "<larch.OMX> ⋯/T/tmpk50hcwwc/exampville.omx\n",
       " |  shape:(15, 15)\n",
       " |  data:\n",
       " |    AUTO_TIME (float64)\n",
       " |    BIKETIME  (float64)\n",
       " |    CARCOST   (float64)\n",
       " |    DIST      (float64)\n",
       " |    RAIL_FARE (float64)\n",
       " |    RAIL_TIME (float64)\n",
       " |    WALKTIME  (float64)\n",
       " |  lookup:\n",
       " |    EMPLOYMENT    (15 float64)\n",
       " |    EMP_NONRETAIL (15 float64)\n",
       " |    EMP_RETAIL    (15 float64)\n",
       " |    LAT           (15 int64)\n",
       " |    LON           (15 int64)\n",
       " |    TAZID         (15 int64)"
      ]
     },
     "execution_count": 9,
     "metadata": {},
     "output_type": "execute_result"
    }
   ],
   "source": [
    "skims.change_mode('a')\n",
    "skims[\"WALKTIME\"] = skims.DIST[:] / 2.5 * 60 * (skims.DIST[:] <= 3)\n",
    "skims[\"BIKETIME\"] = skims.DIST[:] / 12  * 60 * (skims.DIST[:] <= 15)\n",
    "skims[\"CARCOST\"] = skims.DIST[:] * 0.20\n",
    "skims.change_mode('r')"
   ]
  },
  {
   "cell_type": "code",
   "execution_count": null,
   "metadata": {},
   "outputs": [],
   "source": []
  },
  {
   "cell_type": "code",
   "execution_count": 10,
   "metadata": {},
   "outputs": [],
   "source": [
    "DA = 1\n",
    "SR = 2\n",
    "Walk = 3\n",
    "Bike = 4\n",
    "Transit = 5"
   ]
  }
 ],
 "metadata": {
  "kernelspec": {
   "display_name": "Taiga 3.7",
   "language": "python",
   "name": "taiga37"
  },
  "language_info": {
   "codemirror_mode": {
    "name": "ipython",
    "version": 3
   },
   "file_extension": ".py",
   "mimetype": "text/x-python",
   "name": "python",
   "nbconvert_exporter": "python",
   "pygments_lexer": "ipython3",
   "version": "3.7.2"
  }
 },
 "nbformat": 4,
 "nbformat_minor": 2
}
